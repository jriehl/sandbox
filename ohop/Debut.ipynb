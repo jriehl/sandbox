{
 "cells": [
  {
   "cell_type": "code",
   "execution_count": 2,
   "id": "a8baf729",
   "metadata": {},
   "outputs": [
    {
     "name": "stdout",
     "output_type": "stream",
     "text": [
      "Hello, woild.\n"
     ]
    }
   ],
   "source": [
    "print('Hello, woild.')"
   ]
  },
  {
   "cell_type": "markdown",
   "id": "b714a40e",
   "metadata": {},
   "source": [
    "# Literate Programming\n",
    "Literate programming is the admixture of code and prose.\n",
    "\n",
    "So in Jupyter, I can mix code and prose in the fashion of literate programming.\n",
    "\n",
    "...and what that will do is document what I want to do, what I'm doing, and how the computer reacts."
   ]
  },
  {
   "cell_type": "code",
   "execution_count": 3,
   "id": "54c40438",
   "metadata": {},
   "outputs": [
    {
     "data": {
      "text/plain": [
       "4"
      ]
     },
     "execution_count": 3,
     "metadata": {},
     "output_type": "execute_result"
    }
   ],
   "source": [
    "2 + 2"
   ]
  },
  {
   "cell_type": "markdown",
   "id": "80d229c7",
   "metadata": {},
   "source": [
    "## Eureka!\n",
    "It worked, confirming that 2 + 2 is in fact, 4.\n",
    "\n",
    "Sheer brilliance!"
   ]
  }
 ],
 "metadata": {
  "kernelspec": {
   "display_name": "Python 3",
   "language": "python",
   "name": "python3"
  },
  "language_info": {
   "codemirror_mode": {
    "name": "ipython",
    "version": 3
   },
   "file_extension": ".py",
   "mimetype": "text/x-python",
   "name": "python",
   "nbconvert_exporter": "python",
   "pygments_lexer": "ipython3",
   "version": "3.9.4"
  }
 },
 "nbformat": 4,
 "nbformat_minor": 5
}
