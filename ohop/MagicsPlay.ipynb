{
 "cells": [
  {
   "cell_type": "markdown",
   "id": "19acd286",
   "metadata": {},
   "source": [
    "# Magics Play\n",
    "\n",
    "Wherein we play with line and cell magics...\n",
    "\n",
    "## An example line magic: \"pwd\""
   ]
  },
  {
   "cell_type": "code",
   "execution_count": 1,
   "id": "5f84bdcb",
   "metadata": {},
   "outputs": [
    {
     "data": {
      "text/plain": [
       "'/home/jon/git/sandbox/ohop'"
      ]
     },
     "execution_count": 1,
     "metadata": {},
     "output_type": "execute_result"
    }
   ],
   "source": [
    "%pwd"
   ]
  },
  {
   "cell_type": "code",
   "execution_count": 2,
   "id": "f8739446",
   "metadata": {},
   "outputs": [
    {
     "data": {
      "text/plain": [
       "('/home/jon/git/sandbox', 'ohop')"
      ]
     },
     "execution_count": 2,
     "metadata": {},
     "output_type": "execute_result"
    }
   ],
   "source": [
    "import os.path\n",
    "os.path.split(_1)"
   ]
  },
  {
   "cell_type": "markdown",
   "id": "9ac638b8",
   "metadata": {},
   "source": [
    "## An example cell magic: \"bash\""
   ]
  },
  {
   "cell_type": "code",
   "execution_count": 3,
   "id": "e8f03e84",
   "metadata": {},
   "outputs": [
    {
     "name": "stdout",
     "output_type": "stream",
     "text": [
      "Debut.ipynb\n",
      "MagicsPlay.ipynb\n"
     ]
    }
   ],
   "source": [
    "%%bash\n",
    "waitamin() {\n",
    "sleep 5\n",
    "ls -1\n",
    "}\n",
    "waitamin"
   ]
  },
  {
   "cell_type": "code",
   "execution_count": 4,
   "id": "e564bbce",
   "metadata": {},
   "outputs": [
    {
     "data": {
      "text/markdown": [
       "## Custom magics\n",
       "\n",
       "Ala https://ipython.readthedocs.io/en/stable/config/custommagics.html\n"
      ],
      "text/plain": [
       "<IPython.core.display.Markdown object>"
      ]
     },
     "metadata": {},
     "output_type": "display_data"
    }
   ],
   "source": [
    "%%markdown\n",
    "## Custom magics\n",
    "\n",
    "Ala https://ipython.readthedocs.io/en/stable/config/custommagics.html"
   ]
  },
  {
   "cell_type": "code",
   "execution_count": 5,
   "id": "b4e02d4a",
   "metadata": {},
   "outputs": [
    {
     "name": "stdout",
     "output_type": "stream",
     "text": [
      "Loading custom magics!!!\n",
      "Loaded custom magics!!!\n"
     ]
    }
   ],
   "source": [
    "%load_ext mymagics"
   ]
  },
  {
   "cell_type": "code",
   "execution_count": 7,
   "id": "948018c4",
   "metadata": {},
   "outputs": [
    {
     "data": {
      "text/plain": [
       "'testing 1 2 3'"
      ]
     },
     "execution_count": 7,
     "metadata": {},
     "output_type": "execute_result"
    }
   ],
   "source": [
    "%myline testing 1 2 3"
   ]
  },
  {
   "cell_type": "code",
   "execution_count": 8,
   "id": "44899908",
   "metadata": {},
   "outputs": [
    {
     "data": {
      "text/plain": [
       "('testing 1 2 3',\n",
       " \"So what I'm expecting is 'testing 1 2 3'\\nfor the first value of the result tuple!\\n\")"
      ]
     },
     "execution_count": 8,
     "metadata": {},
     "output_type": "execute_result"
    }
   ],
   "source": [
    "%%mycell testing 1 2 3\n",
    "So what I'm expecting is 'testing 1 2 3'\n",
    "for the first value of the result tuple!"
   ]
  },
  {
   "cell_type": "code",
   "execution_count": 9,
   "id": "7baffef9",
   "metadata": {},
   "outputs": [
    {
     "data": {
      "text/plain": [
       "tuple"
      ]
     },
     "execution_count": 9,
     "metadata": {},
     "output_type": "execute_result"
    }
   ],
   "source": [
    "type(_8)"
   ]
  },
  {
   "cell_type": "code",
   "execution_count": 10,
   "id": "74cb9a5d",
   "metadata": {},
   "outputs": [
    {
     "name": "stdout",
     "output_type": "stream",
     "text": [
      "The mymagics extension is already loaded. To reload it, use:\n",
      "  %reload_ext mymagics\n"
     ]
    }
   ],
   "source": [
    "%load_ext mymagics"
   ]
  },
  {
   "cell_type": "code",
   "execution_count": 11,
   "id": "57a02ba8",
   "metadata": {},
   "outputs": [
    {
     "name": "stdout",
     "output_type": "stream",
     "text": [
      "Loading custom magics!!!\n",
      "Loaded custom magics!!!\n"
     ]
    }
   ],
   "source": [
    "%reload_ext mymagics"
   ]
  },
  {
   "cell_type": "code",
   "execution_count": 12,
   "id": "5f13819c",
   "metadata": {},
   "outputs": [
    {
     "data": {
      "text/plain": [
       "<ast.Expression at 0xffff73bc0610>"
      ]
     },
     "execution_count": 12,
     "metadata": {},
     "output_type": "execute_result"
    }
   ],
   "source": [
    "%myline 1 + 2 + 3"
   ]
  },
  {
   "cell_type": "markdown",
   "id": "dcaaedf6",
   "metadata": {},
   "source": [
    "### What do we do with unfamiliar objects?\n",
    "\n",
    "We use the Python `dir()` function to query the member functions and values in the object."
   ]
  },
  {
   "cell_type": "code",
   "execution_count": 13,
   "id": "8257649d",
   "metadata": {},
   "outputs": [
    {
     "data": {
      "text/plain": [
       "['__class__',\n",
       " '__delattr__',\n",
       " '__dict__',\n",
       " '__dir__',\n",
       " '__doc__',\n",
       " '__eq__',\n",
       " '__format__',\n",
       " '__ge__',\n",
       " '__getattribute__',\n",
       " '__gt__',\n",
       " '__hash__',\n",
       " '__init__',\n",
       " '__init_subclass__',\n",
       " '__le__',\n",
       " '__lt__',\n",
       " '__module__',\n",
       " '__ne__',\n",
       " '__new__',\n",
       " '__reduce__',\n",
       " '__reduce_ex__',\n",
       " '__repr__',\n",
       " '__setattr__',\n",
       " '__sizeof__',\n",
       " '__str__',\n",
       " '__subclasshook__',\n",
       " '__weakref__',\n",
       " '_attributes',\n",
       " '_fields',\n",
       " 'body']"
      ]
     },
     "execution_count": 13,
     "metadata": {},
     "output_type": "execute_result"
    }
   ],
   "source": [
    "dir(_12)"
   ]
  },
  {
   "cell_type": "code",
   "execution_count": 14,
   "id": "3c58e458",
   "metadata": {},
   "outputs": [
    {
     "data": {
      "text/plain": [
       "'Expression(body=BinOp(left=BinOp(left=Constant(value=1), op=Add(), right=Constant(value=2)), op=Add(), right=Constant(value=3)))'"
      ]
     },
     "execution_count": 14,
     "metadata": {},
     "output_type": "execute_result"
    }
   ],
   "source": [
    "from ast import dump\n",
    "dump(_12)"
   ]
  },
  {
   "cell_type": "code",
   "execution_count": 16,
   "id": "73b8e42b",
   "metadata": {},
   "outputs": [
    {
     "name": "stdout",
     "output_type": "stream",
     "text": [
      "Expression(\n",
      "  body=BinOp(\n",
      "    left=BinOp(\n",
      "      left=Constant(value=1),\n",
      "      op=Add(),\n",
      "      right=Constant(value=2)),\n",
      "    op=Add(),\n",
      "    right=Constant(value=3)))\n"
     ]
    }
   ],
   "source": [
    "result = dump(_12, indent=2)\n",
    "print(result)"
   ]
  },
  {
   "cell_type": "code",
   "execution_count": 17,
   "id": "cdb97ca3",
   "metadata": {},
   "outputs": [
    {
     "name": "stdout",
     "output_type": "stream",
     "text": [
      "Loading custom magics!!!\n",
      "Loaded custom magics!!!\n"
     ]
    }
   ],
   "source": [
    "%reload_ext mymagics"
   ]
  },
  {
   "cell_type": "code",
   "execution_count": 18,
   "id": "2af97ba3",
   "metadata": {},
   "outputs": [
    {
     "data": {
      "text/plain": [
       "(<ast.Expression at 0xffff73a6c220>, <ast.Module at 0xffff73a6c100>)"
      ]
     },
     "execution_count": 18,
     "metadata": {},
     "output_type": "execute_result"
    }
   ],
   "source": [
    "%%mycell 4 + 5 + 6\n",
    "# Meanwhile...\n",
    "the_result = 42\n",
    "print(the_result)"
   ]
  },
  {
   "cell_type": "code",
   "execution_count": 19,
   "id": "a351b505",
   "metadata": {},
   "outputs": [
    {
     "name": "stdout",
     "output_type": "stream",
     "text": [
      "Expression(\n",
      "  body=BinOp(\n",
      "    left=BinOp(\n",
      "      left=Constant(value=4),\n",
      "      op=Add(),\n",
      "      right=Constant(value=5)),\n",
      "    op=Add(),\n",
      "    right=Constant(value=6)))\n",
      "Module(\n",
      "  body=[\n",
      "    Assign(\n",
      "      targets=[\n",
      "        Name(id='the_result', ctx=Store())],\n",
      "      value=Constant(value=42)),\n",
      "    Expr(\n",
      "      value=Call(\n",
      "        func=Name(id='print', ctx=Load()),\n",
      "        args=[\n",
      "          Name(id='the_result', ctx=Load())],\n",
      "        keywords=[]))],\n",
      "  type_ignores=[])\n"
     ]
    }
   ],
   "source": [
    "mycells_line, mycells_cell = _18\n",
    "print(dump(mycells_line, indent=2))\n",
    "print(dump(mycells_cell, indent=2))"
   ]
  },
  {
   "cell_type": "code",
   "execution_count": null,
   "id": "ebb767ec",
   "metadata": {},
   "outputs": [],
   "source": []
  }
 ],
 "metadata": {
  "kernelspec": {
   "display_name": "Python 3",
   "language": "python",
   "name": "python3"
  },
  "language_info": {
   "codemirror_mode": {
    "name": "ipython",
    "version": 3
   },
   "file_extension": ".py",
   "mimetype": "text/x-python",
   "name": "python",
   "nbconvert_exporter": "python",
   "pygments_lexer": "ipython3",
   "version": "3.9.4"
  }
 },
 "nbformat": 4,
 "nbformat_minor": 5
}
