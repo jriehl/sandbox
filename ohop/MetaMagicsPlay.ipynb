{
 "cells": [
  {
   "cell_type": "code",
   "execution_count": 1,
   "id": "30ee6541",
   "metadata": {},
   "outputs": [
    {
     "name": "stdout",
     "output_type": "stream",
     "text": [
      "Loading custom magics!!!\n",
      "Loaded custom magics!!!\n"
     ]
    }
   ],
   "source": [
    "%load_ext metamagics"
   ]
  },
  {
   "cell_type": "code",
   "execution_count": 2,
   "id": "2879cacd",
   "metadata": {},
   "outputs": [
    {
     "data": {
      "text/plain": [
       "<ast.Expression at 0xffffb52cd790>"
      ]
     },
     "execution_count": 2,
     "metadata": {},
     "output_type": "execute_result"
    }
   ],
   "source": [
    "%myline 1 + 2"
   ]
  },
  {
   "cell_type": "markdown",
   "id": "2da38b6f",
   "metadata": {},
   "source": [
    "# Bumble mumble...\n",
    "\n",
    "We thought that having a constructor was a problem, but then realized that Jon didn't call the superclass constructor...\n",
    "\n",
    "We now call the superclass constructor, and this happens:"
   ]
  },
  {
   "cell_type": "code",
   "execution_count": 3,
   "id": "664d592b",
   "metadata": {},
   "outputs": [
    {
     "name": "stdout",
     "output_type": "stream",
     "text": [
      "Loading custom magics!!!\n",
      "Loaded custom magics!!!\n"
     ]
    }
   ],
   "source": [
    "%reload_ext metamagics"
   ]
  },
  {
   "cell_type": "code",
   "execution_count": 4,
   "id": "067cfe91",
   "metadata": {},
   "outputs": [
    {
     "data": {
      "text/plain": [
       "<ast.Expression at 0xffffb4a92460>"
      ]
     },
     "execution_count": 4,
     "metadata": {},
     "output_type": "execute_result"
    }
   ],
   "source": [
    "%myline 1 + 2"
   ]
  },
  {
   "cell_type": "markdown",
   "id": "48ab6532",
   "metadata": {},
   "source": [
    "## Success\n",
    "\n",
    "We are back in business after wasting the viewer's precious time on a simple bug.\n",
    "\n",
    "# Playing with the `eval()` built-in..."
   ]
  },
  {
   "cell_type": "code",
   "execution_count": 5,
   "id": "c684b684",
   "metadata": {},
   "outputs": [
    {
     "data": {
      "text/plain": [
       "3"
      ]
     },
     "execution_count": 5,
     "metadata": {},
     "output_type": "execute_result"
    }
   ],
   "source": [
    "eval('1 + 2')"
   ]
  },
  {
   "cell_type": "code",
   "execution_count": 10,
   "id": "c50379e9",
   "metadata": {},
   "outputs": [
    {
     "name": "stdout",
     "output_type": "stream",
     "text": [
      "Loading custom magics!!!\n",
      "Loaded custom magics!!!\n"
     ]
    }
   ],
   "source": [
    "%reload_ext metamagics"
   ]
  },
  {
   "cell_type": "code",
   "execution_count": 11,
   "id": "baeaf22b",
   "metadata": {},
   "outputs": [
    {
     "name": "stdout",
     "output_type": "stream",
     "text": [
      "{'shell': <ipykernel.zmqshell.ZMQInteractiveShell object at 0xffffb8afe5b0>}\n"
     ]
    },
    {
     "data": {
      "text/plain": [
       "3"
      ]
     },
     "execution_count": 11,
     "metadata": {},
     "output_type": "execute_result"
    }
   ],
   "source": [
    "%myline 1 + 2"
   ]
  },
  {
   "cell_type": "code",
   "execution_count": 12,
   "id": "80df2380",
   "metadata": {},
   "outputs": [
    {
     "name": "stdout",
     "output_type": "stream",
     "text": [
      "Loading custom magics!!!\n",
      "Loaded custom magics!!!\n"
     ]
    }
   ],
   "source": [
    "%reload_ext metamagics"
   ]
  },
  {
   "cell_type": "code",
   "execution_count": 14,
   "id": "5fc53f52",
   "metadata": {},
   "outputs": [
    {
     "name": "stdout",
     "output_type": "stream",
     "text": [
      "41\n"
     ]
    }
   ],
   "source": [
    "%%mybug 1 + 2\n",
    "the_possibly_bad_answer = 41\n",
    "print(the_possibly_bad_answer)"
   ]
  },
  {
   "cell_type": "markdown",
   "id": "eda0ff2b",
   "metadata": {},
   "source": [
    "## Interesting...\n",
    "\n",
    "It worked...meaning `eval()` and `exec()` can handle expression and \"exec\" code objects."
   ]
  },
  {
   "cell_type": "code",
   "execution_count": 15,
   "id": "c4e93c3f",
   "metadata": {},
   "outputs": [
    {
     "data": {
      "text/plain": [
       "(<code object <module> at 0xffffb8b612f0, file \"<string>\", line 1>,\n",
       " <code object <module> at 0xffffb8b61710, file \"<string>\", line 1>)"
      ]
     },
     "execution_count": 15,
     "metadata": {},
     "output_type": "execute_result"
    }
   ],
   "source": [
    "compile('1 + 2', '<string>', 'eval'), compile('1 + 2', '<string>', 'exec')"
   ]
  },
  {
   "cell_type": "markdown",
   "id": "a1249e43",
   "metadata": {},
   "source": [
    "## But...\n",
    "\n",
    "`eval()` and `exec()` on strings _should not_ work..."
   ]
  },
  {
   "cell_type": "code",
   "execution_count": 16,
   "id": "568bf743",
   "metadata": {},
   "outputs": [
    {
     "ename": "SyntaxError",
     "evalue": "invalid syntax (<string>, line 1)",
     "output_type": "error",
     "traceback": [
      "Traceback \u001b[0;36m(most recent call last)\u001b[0m:\n",
      "  File \u001b[1;32m\"/home/jon/ohop-forge/envs/ohop/lib/python3.9/site-packages/IPython/core/interactiveshell.py\"\u001b[0m, line \u001b[1;32m3441\u001b[0m, in \u001b[1;35mrun_code\u001b[0m\n    exec(code_obj, self.user_global_ns, self.user_ns)\n",
      "\u001b[0;36m  File \u001b[0;32m\"<ipython-input-16-d671b801eec3>\"\u001b[0;36m, line \u001b[0;32m1\u001b[0;36m, in \u001b[0;35m<module>\u001b[0;36m\u001b[0m\n\u001b[0;31m    eval('''the_possibly_worst_answer = 0\u001b[0m\n",
      "\u001b[0;36m  File \u001b[0;32m\"<string>\"\u001b[0;36m, line \u001b[0;32m1\u001b[0m\n\u001b[0;31m    the_possibly_worst_answer = 0\u001b[0m\n\u001b[0m                              ^\u001b[0m\n\u001b[0;31mSyntaxError\u001b[0m\u001b[0;31m:\u001b[0m invalid syntax\n"
     ]
    }
   ],
   "source": [
    "eval('''the_possibly_worst_answer = 0\n",
    "print(the_possibly_worst_answer)''')"
   ]
  },
  {
   "cell_type": "code",
   "execution_count": 18,
   "id": "d4cae733",
   "metadata": {},
   "outputs": [
    {
     "name": "stdout",
     "output_type": "stream",
     "text": [
      "0\n"
     ]
    }
   ],
   "source": [
    "exec('''the_possibly_worst_answer = 0\n",
    "print(the_possibly_worst_answer)''')"
   ]
  },
  {
   "cell_type": "code",
   "execution_count": 20,
   "id": "dbf20e71",
   "metadata": {},
   "outputs": [
    {
     "ename": "SyntaxError",
     "evalue": "invalid syntax (<string>, line 1)",
     "output_type": "error",
     "traceback": [
      "Traceback \u001b[0;36m(most recent call last)\u001b[0m:\n",
      "  File \u001b[1;32m\"/home/jon/ohop-forge/envs/ohop/lib/python3.9/site-packages/IPython/core/interactiveshell.py\"\u001b[0m, line \u001b[1;32m3441\u001b[0m, in \u001b[1;35mrun_code\u001b[0m\n    exec(code_obj, self.user_global_ns, self.user_ns)\n",
      "\u001b[0;36m  File \u001b[0;32m\"<ipython-input-20-cb5cb0ed6364>\"\u001b[0;36m, line \u001b[0;32m2\u001b[0;36m, in \u001b[0;35m<module>\u001b[0;36m\u001b[0m\n\u001b[0;31m    eval('not_a_good_answer = -1')\u001b[0m\n",
      "\u001b[0;36m  File \u001b[0;32m\"<string>\"\u001b[0;36m, line \u001b[0;32m1\u001b[0m\n\u001b[0;31m    not_a_good_answer = -1\u001b[0m\n\u001b[0m                      ^\u001b[0m\n\u001b[0;31mSyntaxError\u001b[0m\u001b[0;31m:\u001b[0m invalid syntax\n"
     ]
    }
   ],
   "source": [
    "# Again:\n",
    "eval('not_a_good_answer = -1')"
   ]
  },
  {
   "cell_type": "code",
   "execution_count": null,
   "id": "230667f8",
   "metadata": {},
   "outputs": [],
   "source": []
  }
 ],
 "metadata": {
  "kernelspec": {
   "display_name": "Python 3",
   "language": "python",
   "name": "python3"
  },
  "language_info": {
   "codemirror_mode": {
    "name": "ipython",
    "version": 3
   },
   "file_extension": ".py",
   "mimetype": "text/x-python",
   "name": "python",
   "nbconvert_exporter": "python",
   "pygments_lexer": "ipython3",
   "version": "3.9.4"
  }
 },
 "nbformat": 4,
 "nbformat_minor": 5
}
